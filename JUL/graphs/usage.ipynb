{
 "cells": [
  {
   "cell_type": "markdown",
   "id": "a93a23af-8a94-485c-84ac-9d15455d884b",
   "metadata": {},
   "source": [
    "# `MyGraph.jl`: ukázka použití"
   ]
  },
  {
   "cell_type": "code",
   "execution_count": 1,
   "id": "f2d5235a-ebde-4247-be27-f1c699889e7e",
   "metadata": {},
   "outputs": [
    {
     "name": "stderr",
     "output_type": "stream",
     "text": [
      "┌ Info: Precompiling MyGraph [4404a3e4-8e19-41a3-af2a-c632de2af867]\n",
      "└ @ Base loading.jl:1423\n",
      "\u001b[91m\u001b[1mERROR: \u001b[22m\u001b[39mLoadError: TypeError: in Union, expected Type, got a value of type Vector{Any}\n",
      "Stacktrace:\n",
      " [1] top-level scope\n",
      "\u001b[90m   @ \u001b[39m\u001b[90m~/Dropbox/_FIT CVUT/Semestr 5/JUL/moje-git/src/\u001b[39m\u001b[90m\u001b[4mMyGraph.jl:15\u001b[24m\u001b[39m\n",
      " [2] top-level scope\u001b[90m (repeats 2 times)\u001b[39m\n",
      "\u001b[90m   @ \u001b[39m\u001b[90m\u001b[4mnone:1\u001b[24m\u001b[39m\n",
      "in expression starting at /home/b4lldr/Dropbox/_FIT CVUT/Semestr 5/JUL/moje-git/src/MyGraph.jl:1\n"
     ]
    },
    {
     "ename": "LoadError",
     "evalue": "Failed to precompile MyGraph [4404a3e4-8e19-41a3-af2a-c632de2af867] to /home/b4lldr/.julia/compiled/v1.7/MyGraph/jl_ofgsXh.",
     "output_type": "error",
     "traceback": [
      "Failed to precompile MyGraph [4404a3e4-8e19-41a3-af2a-c632de2af867] to /home/b4lldr/.julia/compiled/v1.7/MyGraph/jl_ofgsXh.",
      "",
      "Stacktrace:",
      " [1] compilecache(pkg::Base.PkgId, path::String, internal_stderr::IO, internal_stdout::IO, ignore_loaded_modules::Bool)",
      "   @ Base ./loading.jl:1466",
      " [2] compilecache(pkg::Base.PkgId, path::String)",
      "   @ Base ./loading.jl:1410",
      " [3] _require(pkg::Base.PkgId)",
      "   @ Base ./loading.jl:1120",
      " [4] require(uuidkey::Base.PkgId)",
      "   @ Base ./loading.jl:1013",
      " [5] require(into::Module, mod::Symbol)",
      "   @ Base ./loading.jl:997",
      " [6] eval",
      "   @ ./boot.jl:373 [inlined]",
      " [7] include_string(mapexpr::typeof(REPL.softscope), mod::Module, code::String, filename::String)",
      "   @ Base ./loading.jl:1196"
     ]
    }
   ],
   "source": [
    "using MyGraph"
   ]
  },
  {
   "cell_type": "markdown",
   "id": "cdbd515d-0d7c-44f8-a177-ad35f3141816",
   "metadata": {},
   "source": [
    "Velmi jednoduchý graf s třemi vrcholy a dvěma hranami."
   ]
  },
  {
   "cell_type": "markdown",
   "id": "8d87e670-51d2-4c40-b734-5af3ad1ac9ce",
   "metadata": {},
   "source": [
    "## První ukázka"
   ]
  },
  {
   "cell_type": "code",
   "execution_count": null,
   "id": "d253ac81-4acb-440b-b16f-fc635462e85a",
   "metadata": {},
   "outputs": [],
   "source": [
    "G = Graph([(1, 2), (2, 3)])"
   ]
  },
  {
   "cell_type": "code",
   "execution_count": null,
   "id": "28c0f268-d49c-47e2-b074-1b05baf574b3",
   "metadata": {},
   "outputs": [],
   "source": [
    "draw(G)"
   ]
  },
  {
   "cell_type": "markdown",
   "id": "08531a76-4b4b-4553-8398-a0f7ee212da8",
   "metadata": {},
   "source": [
    "Doplňme náš graf $G$ na kružnici přidáním dalších tří vrcholů."
   ]
  },
  {
   "cell_type": "code",
   "execution_count": null,
   "id": "54e1ba5a-c06b-41be-93d9-ce9cef96a8ef",
   "metadata": {},
   "outputs": [],
   "source": [
    "add_edge!(G, (3, 4))\n",
    "add_edge!(G, (4, 5))\n",
    "add_edge!(G, (5, 6))\n",
    "add_edge!(G, (6, 1))"
   ]
  },
  {
   "cell_type": "code",
   "execution_count": null,
   "id": "a0720b08-831d-491d-bbc5-903ee88ff401",
   "metadata": {},
   "outputs": [],
   "source": [
    "draw(G, labels=true)"
   ]
  },
  {
   "cell_type": "markdown",
   "id": "891e2831-596c-46e7-9427-819a75cea8d0",
   "metadata": {},
   "source": [
    "Spojme $1$ a $4$ dalšími dvěma hranami a rozbijme hranu mezi $2$ a $3$."
   ]
  },
  {
   "cell_type": "code",
   "execution_count": null,
   "id": "4366a224-cd70-45e7-906b-41266420624b",
   "metadata": {},
   "outputs": [],
   "source": [
    "add_edge!(G, (1, 7))\n",
    "add_edge!(G, (7, 4))\n",
    "remove_edge!(G, (2, 3))"
   ]
  },
  {
   "cell_type": "code",
   "execution_count": null,
   "id": "cd748a18-65a7-4037-8131-34764faab56f",
   "metadata": {},
   "outputs": [],
   "source": [
    "draw(G)"
   ]
  },
  {
   "cell_type": "markdown",
   "id": "700e660b-81b5-4bdb-b8b8-01bc6a8ff42c",
   "metadata": {},
   "source": [
    "## Úplné grafy"
   ]
  },
  {
   "cell_type": "code",
   "execution_count": null,
   "id": "37b519d9-b7b7-421a-b20f-d91ffa71b186",
   "metadata": {},
   "outputs": [],
   "source": [
    "function complete_graph(n)\n",
    "    G = Graph([])\n",
    "    for j = 1:(n-1)\n",
    "        for k = (j+1):n\n",
    "            add_edge!(G, (j, k))\n",
    "        end\n",
    "    end\n",
    "    \n",
    "    return G\n",
    "end"
   ]
  },
  {
   "cell_type": "code",
   "execution_count": null,
   "id": "73f4f6dd-c650-4f19-af72-5624501f0cd5",
   "metadata": {},
   "outputs": [],
   "source": [
    "draw(complete_graph(2))"
   ]
  },
  {
   "cell_type": "code",
   "execution_count": null,
   "id": "0b539ac2-b207-4cad-9405-4d6ac06601a0",
   "metadata": {},
   "outputs": [],
   "source": [
    "draw(complete_graph(3))"
   ]
  },
  {
   "cell_type": "code",
   "execution_count": null,
   "id": "da68718b-a4e8-4dc9-9f46-9d300bb4dd69",
   "metadata": {},
   "outputs": [],
   "source": [
    "draw(complete_graph(4))"
   ]
  },
  {
   "cell_type": "code",
   "execution_count": null,
   "id": "3021c8f2-97cb-4149-b183-c1ccdb033c45",
   "metadata": {},
   "outputs": [],
   "source": [
    "# Zde si povšimněte, že při aktuálním nastavení občas jeden vrchol skončí uvnitř \"čtverce\" a zakrývá pak úhlopříčky\n",
    "draw(complete_graph(5))"
   ]
  },
  {
   "cell_type": "code",
   "execution_count": null,
   "id": "d240ee89-5ae3-49a1-9476-30b4b92a2339",
   "metadata": {},
   "outputs": [],
   "source": [
    "draw(complete_graph(6))"
   ]
  },
  {
   "cell_type": "code",
   "execution_count": null,
   "id": "3b981e78-173d-4b45-8923-59ef6f6d9525",
   "metadata": {},
   "outputs": [],
   "source": [
    "draw(complete_graph(6))"
   ]
  },
  {
   "cell_type": "markdown",
   "id": "d99085ad-398c-475d-bdbd-db6b032342dd",
   "metadata": {},
   "source": [
    "## Úplný bipartitní graf $K_{2,3}$"
   ]
  },
  {
   "cell_type": "code",
   "execution_count": null,
   "id": "2f81fa22-668c-4570-928f-3c35ed81ea34",
   "metadata": {},
   "outputs": [],
   "source": [
    "G = Graph([(\"a\", 1), (\"a\", 2), (\"b\", 1), (\"b\", 2), (\"c\", 1), (\"c\", 2)])"
   ]
  },
  {
   "cell_type": "code",
   "execution_count": null,
   "id": "67f524fb-fd79-42b0-a6f2-cebea03fe519",
   "metadata": {},
   "outputs": [],
   "source": [
    "draw(G)"
   ]
  },
  {
   "cell_type": "markdown",
   "id": "147bf8af-2851-4306-b890-a9d280bf2282",
   "metadata": {},
   "source": [
    "## Hvězda"
   ]
  },
  {
   "cell_type": "code",
   "execution_count": null,
   "id": "043f20e4-b500-446c-b81f-9cc2373cd359",
   "metadata": {},
   "outputs": [],
   "source": [
    "G = Graph([(0, j) for j = 1:10])"
   ]
  },
  {
   "cell_type": "code",
   "execution_count": null,
   "id": "5133c4b8-6403-444d-a6c6-55f20235c32f",
   "metadata": {},
   "outputs": [],
   "source": [
    "draw(G)"
   ]
  },
  {
   "cell_type": "markdown",
   "id": "08d84ae0-624a-41b3-a6b8-9435ed2e48ee",
   "metadata": {},
   "source": [
    "## Strom"
   ]
  },
  {
   "cell_type": "code",
   "execution_count": null,
   "id": "858df2d9-b853-40d4-9f20-982eee1ffcc7",
   "metadata": {},
   "outputs": [],
   "source": [
    "G = Graph([(0, 1), (0, 2), (0, 3), (1, 4), (1, 5), (2, 6), (2, 7), (4, 8), (4, 9)])"
   ]
  },
  {
   "cell_type": "code",
   "execution_count": null,
   "id": "52434359-f740-4c3d-bf14-28cb77f1b777",
   "metadata": {},
   "outputs": [],
   "source": [
    "draw(G)"
   ]
  },
  {
   "cell_type": "markdown",
   "id": "d2b0dadf-d5da-4086-97b7-ec1ad5d776e8",
   "metadata": {},
   "source": [
    "## Dürerův graf"
   ]
  },
  {
   "cell_type": "code",
   "execution_count": null,
   "id": "646367ba-62de-44e9-84e7-ef1bf7390a2f",
   "metadata": {},
   "outputs": [],
   "source": [
    "G = Graph([(1, 2), (2, 3), (3, 4), (4, 5), (5, 6), (6, 1), (1, \"a\"), (2, \"b\"), (3, \"c\"), (4, \"d\"), (5, \"e\"), (6, \"f\"), (\"a\", \"c\"), (\"c\", \"e\"), (\"e\", \"a\"), (\"b\", \"d\"), (\"d\", \"f\"), (\"f\", \"b\")])"
   ]
  },
  {
   "cell_type": "code",
   "execution_count": null,
   "id": "13a888f3-43d6-453b-8892-c990782ae74e",
   "metadata": {},
   "outputs": [],
   "source": [
    "draw(G)"
   ]
  }
 ],
 "metadata": {
  "kernelspec": {
   "display_name": "Julia 1.6.2",
   "language": "julia",
   "name": "julia-1.6"
  },
  "language_info": {
   "file_extension": ".jl",
   "mimetype": "application/julia",
   "name": "julia",
   "version": "1.7.0"
  }
 },
 "nbformat": 4,
 "nbformat_minor": 5
}
